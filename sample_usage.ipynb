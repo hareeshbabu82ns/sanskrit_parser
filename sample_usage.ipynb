{
 "cells": [
  {
   "cell_type": "code",
   "execution_count": 1,
   "metadata": {},
   "outputs": [],
   "source": [
    "from sanskrit_parser.parser.sandhi import Sandhi\n",
    "from sanskrit_parser.base.sanskrit_base import SanskritImmutableString, SanskritObject, SLP1, DEVANAGARI, denormalize\n",
    "from sanskrit_parser.parser.sandhi_analyzer import LexicalSandhiAnalyzer"
   ]
  },
  {
   "cell_type": "code",
   "execution_count": 2,
   "metadata": {},
   "outputs": [],
   "source": [
    "sandhi = Sandhi()"
   ]
  },
  {
   "cell_type": "markdown",
   "metadata": {},
   "source": [
    "__Sandhi Join__"
   ]
  },
  {
   "cell_type": "code",
   "execution_count": 3,
   "metadata": {},
   "outputs": [],
   "source": [
    "word1 = SanskritImmutableString('te')\n",
    "word2 = SanskritImmutableString('eva')"
   ]
  },
  {
   "cell_type": "code",
   "execution_count": 4,
   "metadata": {},
   "outputs": [
    {
     "name": "stdout",
     "output_type": "stream",
     "text": [
      "ta eva\n",
      "tayeva\n",
      "taeva\n",
      "teeva\n"
     ]
    }
   ],
   "source": [
    "joins = sandhi.join(word1, word2)\n",
    "for join in joins: # strings\n",
    "    print(join)"
   ]
  },
  {
   "cell_type": "markdown",
   "metadata": {},
   "source": [
    "__Sandhi Splits__"
   ]
  },
  {
   "cell_type": "code",
   "execution_count": 38,
   "metadata": {},
   "outputs": [],
   "source": [
    "word = SanskritImmutableString('papracCa')"
   ]
  },
  {
   "cell_type": "code",
   "execution_count": 39,
   "metadata": {},
   "outputs": [
    {
     "name": "stdout",
     "output_type": "stream",
     "text": [
      "('pa', 'pracCa')\n"
     ]
    }
   ],
   "source": [
    "# split at position\n",
    "pos = 1\n",
    "splits = sandhi.split_at(word, pos)\n",
    "for split in splits: # strings\n",
    "    print(split)"
   ]
  },
  {
   "cell_type": "code",
   "execution_count": 40,
   "metadata": {},
   "outputs": [
    {
     "name": "stdout",
     "output_type": "stream",
     "text": [
      "('paprad', 'Sa')\n",
      "('paprat', 'Sa')\n",
      "('papracC', 'a')\n",
      "('papra', 'cCa')\n",
      "('paprat', 'Ca')\n",
      "('paprac', 'Ca')\n",
      "('paprac', 'Sa')\n",
      "('papraJ', 'Ca')\n",
      "('paprac', 'Ta')\n",
      "('p', 'apracCa')\n",
      "('papracCa', '')\n",
      "('papra', 'Ca')\n",
      "('papF', 'acCa')\n",
      "('pap', 'racCa')\n",
      "('papr', 'acCa')\n",
      "('pa', 'pracCa')\n",
      "('papraC', 'Ca')\n",
      "('papf', 'acCa')\n",
      "('papraj', 'Ca')\n"
     ]
    }
   ],
   "source": [
    "# split at all poistions\n",
    "splits_all = sandhi.split_all(word)\n",
    "for split in splits_all: # strings\n",
    "    print(split)"
   ]
  },
  {
   "cell_type": "markdown",
   "metadata": {},
   "source": [
    "__Sandhi Analyzer__"
   ]
  },
  {
   "cell_type": "code",
   "execution_count": 8,
   "metadata": {},
   "outputs": [],
   "source": [
    "analyzer = LexicalSandhiAnalyzer()"
   ]
  },
  {
   "cell_type": "code",
   "execution_count": 51,
   "metadata": {},
   "outputs": [],
   "source": [
    "sentence = SanskritObject(\"को न्वस्मिन् साम्प्रतं लोके गुणवान् कश्च वीर्यवान् धर्मज्ञश्च कृतज्ञश्च सत्यवाक्यो दृढव्रतः\", encoding=DEVANAGARI)\n",
    "# sentence = SanskritObject(\"astyuttarasyAMdishidevatAtmA\")\n",
    "graphs = analyzer.getSandhiSplits(sentence,tag=True)\n",
    "splits = graphs.find_all_paths(10)\n",
    "tags = analyzer.tagSandhiGraph(graphs)"
   ]
  },
  {
   "cell_type": "code",
   "execution_count": 52,
   "metadata": {},
   "outputs": [
    {
     "data": {
      "text/plain": [
       "{'Sca vIryavAn DarmajYaSca kftajYaSca satyavAkyo dfQavrataH': set(),\n",
       " 'Sca satyavAkyo dfQavrataH': set(),\n",
       " 'kyo dfQavrataH': set(),\n",
       " 'akyo dfQavrataH': set(),\n",
       " 'Akyo dfQavrataH': set(),\n",
       " 'H': set(),\n",
       " 'taH': {tas},\n",
       " 'vrataH': {vra, vratas},\n",
       " 'dfQavrataH': {dfQa, dfQavratas},\n",
       " 'yo dfQavrataH': {yas, yo},\n",
       " 'vAkyo dfQavrataH': {vAk, vAkyas},\n",
       " 'tyavAkyo dfQavrataH': set(),\n",
       " 'avAkyo dfQavrataH': {a, avAk},\n",
       " 'yavAkyo dfQavrataH': {ya},\n",
       " 'satyavAkyo dfQavrataH': {sat, satI, sati, satya, satyavAkyas},\n",
       " 'ca satyavAkyo dfQavrataH': {ca},\n",
       " 'jYaSca satyavAkyo dfQavrataH': {jYas},\n",
       " 'ajYaSca satyavAkyo dfQavrataH': {a, ajYas},\n",
       " 'kftajYaSca satyavAkyo dfQavrataH': {kft, kfta, kftajYas},\n",
       " 'ca kftajYaSca satyavAkyo dfQavrataH': {ca},\n",
       " 'Sca kftajYaSca satyavAkyo dfQavrataH': set(),\n",
       " 'jYaSca kftajYaSca satyavAkyo dfQavrataH': {jYas},\n",
       " 'majYaSca kftajYaSca satyavAkyo dfQavrataH': {ma},\n",
       " 'FmajYaSca kftajYaSca satyavAkyo dfQavrataH': {F},\n",
       " 'fmajYaSca kftajYaSca satyavAkyo dfQavrataH': {f},\n",
       " 'rmajYaSca kftajYaSca satyavAkyo dfQavrataH': set(),\n",
       " 'DarmajYaSca kftajYaSca satyavAkyo dfQavrataH': {DA, Da, Darma, DarmajYas},\n",
       " 'n DarmajYaSca kftajYaSca satyavAkyo dfQavrataH': set(),\n",
       " 'An DarmajYaSca kftajYaSca satyavAkyo dfQavrataH': {An},\n",
       " 'an DarmajYaSca kftajYaSca satyavAkyo dfQavrataH': set(),\n",
       " 'vAn DarmajYaSca kftajYaSca satyavAkyo dfQavrataH': {vA, vAn, va},\n",
       " 'avAn DarmajYaSca kftajYaSca satyavAkyo dfQavrataH': {a, avA, avAn, ava},\n",
       " 'ryavAn DarmajYaSca kftajYaSca satyavAkyo dfQavrataH': {rI, ri},\n",
       " 'yavAn DarmajYaSca kftajYaSca satyavAkyo dfQavrataH': {ya,\n",
       "  yavA,\n",
       "  yavAn,\n",
       "  yava,\n",
       "  yo},\n",
       " 'iryavAn DarmajYaSca kftajYaSca satyavAkyo dfQavrataH': {i,\n",
       "  irI,\n",
       "  iri,\n",
       "  irya,\n",
       "  is},\n",
       " 'IryavAn DarmajYaSca kftajYaSca satyavAkyo dfQavrataH': {I,\n",
       "  IrI,\n",
       "  Iri,\n",
       "  Irya,\n",
       "  Is,\n",
       "  is},\n",
       " 'vIryavAn DarmajYaSca kftajYaSca satyavAkyo dfQavrataH': {vI,\n",
       "  vIrI,\n",
       "  vIri,\n",
       "  vIrya,\n",
       "  vIryavAn,\n",
       "  vIs,\n",
       "  vi,\n",
       "  vis},\n",
       " 'ca vIryavAn DarmajYaSca kftajYaSca satyavAkyo dfQavrataH': {ca},\n",
       " 'kaSca vIryavAn DarmajYaSca kftajYaSca satyavAkyo dfQavrataH': {kas},\n",
       " 'n kaSca vIryavAn DarmajYaSca kftajYaSca satyavAkyo dfQavrataH': set(),\n",
       " 'an kaSca vIryavAn DarmajYaSca kftajYaSca satyavAkyo dfQavrataH': set(),\n",
       " 'An kaSca vIryavAn DarmajYaSca kftajYaSca satyavAkyo dfQavrataH': {An},\n",
       " 'vAn kaSca vIryavAn DarmajYaSca kftajYaSca satyavAkyo dfQavrataH': {vA,\n",
       "  vAn,\n",
       "  va},\n",
       " 'RavAn kaSca vIryavAn DarmajYaSca kftajYaSca satyavAkyo dfQavrataH': {Ra},\n",
       " 'guRavAn kaSca vIryavAn DarmajYaSca kftajYaSca satyavAkyo dfQavrataH': {gu,\n",
       "  guRa,\n",
       "  guRavAn},\n",
       " 'ke guRavAn kaSca vIryavAn DarmajYaSca kftajYaSca satyavAkyo dfQavrataH': {ke},\n",
       " 'uke guRavAn kaSca vIryavAn DarmajYaSca kftajYaSca satyavAkyo dfQavrataH': {u},\n",
       " 'Uke guRavAn kaSca vIryavAn DarmajYaSca kftajYaSca satyavAkyo dfQavrataH': {U},\n",
       " 'ake guRavAn kaSca vIryavAn DarmajYaSca kftajYaSca satyavAkyo dfQavrataH': {a,\n",
       "  ake},\n",
       " 'loke guRavAn kaSca vIryavAn DarmajYaSca kftajYaSca satyavAkyo dfQavrataH': {lA,\n",
       "  la,\n",
       "  las,\n",
       "  loke},\n",
       " 'M loke guRavAn kaSca vIryavAn DarmajYaSca kftajYaSca satyavAkyo dfQavrataH': set(),\n",
       " 'taM loke guRavAn kaSca vIryavAn DarmajYaSca kftajYaSca satyavAkyo dfQavrataH': {tam},\n",
       " 'prataM loke guRavAn kaSca vIryavAn DarmajYaSca kftajYaSca satyavAkyo dfQavrataH': {pra},\n",
       " 'mprataM loke guRavAn kaSca vIryavAn DarmajYaSca kftajYaSca satyavAkyo dfQavrataH': set(),\n",
       " 'amprataM loke guRavAn kaSca vIryavAn DarmajYaSca kftajYaSca satyavAkyo dfQavrataH': {am},\n",
       " 'AmprataM loke guRavAn kaSca vIryavAn DarmajYaSca kftajYaSca satyavAkyo dfQavrataH': {Am},\n",
       " 'sAmprataM loke guRavAn kaSca vIryavAn DarmajYaSca kftajYaSca satyavAkyo dfQavrataH': {sA,\n",
       "  sAm,\n",
       "  sAmpratam,\n",
       "  sa},\n",
       " 'smin sAmprataM loke guRavAn kaSca vIryavAn DarmajYaSca kftajYaSca satyavAkyo dfQavrataH': set(),\n",
       " 'n sAmprataM loke guRavAn kaSca vIryavAn DarmajYaSca kftajYaSca satyavAkyo dfQavrataH': set(),\n",
       " 'asmin sAmprataM loke guRavAn kaSca vIryavAn DarmajYaSca kftajYaSca satyavAkyo dfQavrataH': {asmin},\n",
       " 'nvasmin sAmprataM loke guRavAn kaSca vIryavAn DarmajYaSca kftajYaSca satyavAkyo dfQavrataH': {nU,\n",
       "  nu},\n",
       " 'ko nvasmin sAmprataM loke guRavAn kaSca vIryavAn DarmajYaSca kftajYaSca satyavAkyo dfQavrataH': {kas,\n",
       "  ko}}"
      ]
     },
     "execution_count": 52,
     "metadata": {},
     "output_type": "execute_result"
    }
   ],
   "source": [
    "analyzer.dynamic_scoreboard"
   ]
  },
  {
   "cell_type": "code",
   "execution_count": 53,
   "metadata": {},
   "outputs": [
    {
     "name": "stdout",
     "output_type": "stream",
     "text": [
      "tags :  None\n"
     ]
    }
   ],
   "source": [
    "print('tags : ', tags)"
   ]
  },
  {
   "cell_type": "code",
   "execution_count": 54,
   "metadata": {},
   "outputs": [
    {
     "name": "stdout",
     "output_type": "stream",
     "text": [
      "splits for:  को न्वस्मिन् साम्प्रतं लोके गुणवान् कश्च वीर्यवान् धर्मज्ञश्च कृतज्ञश्च सत्यवाक्यो दृढव्रतः\n",
      "['को', 'नु', 'अस्मिन्', 'साम्प्रतम्', 'लोके', 'गुणवान्', 'कस्', 'च', 'वीर्य', 'वान्', 'धर्म', 'ज्ञस्', 'च', 'कृतज्ञस्', 'च', 'सत्य', 'वाक्यस्', 'दृढ', 'व्रतस्']\n",
      "[ko, nu, asmin, sAmpratam, loke, guRavAn, kas, ca, vIrya, vAn, Darma, jYas, ca, kftajYas, ca, satya, vAkyas, dfQa, vratas]\n",
      "['को', 'नु', 'अस्मिन्', 'साम्प्रतम्', 'लोके', 'गुणवान्', 'कस्', 'च', 'वीर्य', 'वान्', 'धर्म', 'ज्ञस्', 'च', 'कृतज्ञस्', 'च', 'सत्य', 'वाक्', 'यो', 'दृढ', 'व्रतस्']\n",
      "[ko, nu, asmin, sAmpratam, loke, guRavAn, kas, ca, vIrya, vAn, Darma, jYas, ca, kftajYas, ca, satya, vAk, yo, dfQa, vratas]\n",
      "['को', 'नु', 'अस्मिन्', 'साम्', 'प्र', 'तम्', 'लोके', 'गुण', 'वान्', 'कस्', 'च', 'वीर्य', 'वान्', 'धर्म', 'ज्ञस्', 'च', 'कृतज्ञस्', 'च', 'सत्य', 'वाक्यस्', 'दृढ', 'व्रतस्']\n",
      "[ko, nu, asmin, sAm, pra, tam, loke, guRa, vAn, kas, ca, vIrya, vAn, Darma, jYas, ca, kftajYas, ca, satya, vAkyas, dfQa, vratas]\n",
      "['को', 'नु', 'अस्मिन्', 'साम्प्रतम्', 'लोके', 'गुण', 'वान्', 'कस्', 'च', 'वीर्य', 'वान्', 'धर्म', 'ज्ञस्', 'च', 'कृतज्ञस्', 'च', 'सत्य', 'वाक्यस्', 'दृढ', 'व्रतस्']\n",
      "[ko, nu, asmin, sAmpratam, loke, guRa, vAn, kas, ca, vIrya, vAn, Darma, jYas, ca, kftajYas, ca, satya, vAkyas, dfQa, vratas]\n",
      "['को', 'नु', 'अस्मिन्', 'साम्', 'प्र', 'तम्', 'लोके', 'गुण', 'वान्', 'कस्', 'च', 'वीर्य', 'वान्', 'धर्म', 'ज्ञस्', 'च', 'कृतज्ञस्', 'च', 'सत्य', 'वाक्', 'यो', 'दृढ', 'व्रतस्']\n",
      "[ko, nu, asmin, sAm, pra, tam, loke, guRa, vAn, kas, ca, vIrya, vAn, Darma, jYas, ca, kftajYas, ca, satya, vAk, yo, dfQa, vratas]\n",
      "['को', 'नु', 'अस्मिन्', 'साम्प्रतम्', 'लोके', 'गुण', 'वान्', 'कस्', 'च', 'वीर्य', 'वान्', 'धर्म', 'ज्ञस्', 'च', 'कृत', 'ज्ञस्', 'च', 'सत्य', 'वाक्यस्', 'दृढ', 'व्रतस्']\n",
      "[ko, nu, asmin, sAmpratam, loke, guRa, vAn, kas, ca, vIrya, vAn, Darma, jYas, ca, kfta, jYas, ca, satya, vAkyas, dfQa, vratas]\n",
      "['को', 'नु', 'अस्मिन्', 'साम्प्रतम्', 'लोके', 'गुण', 'वान्', 'कस्', 'च', 'वीर्य', 'वान्', 'धर्म', 'ज्ञस्', 'च', 'कृतज्ञस्', 'च', 'सत्य', 'वाक्', 'यो', 'दृढ', 'व्रतस्']\n",
      "[ko, nu, asmin, sAmpratam, loke, guRa, vAn, kas, ca, vIrya, vAn, Darma, jYas, ca, kftajYas, ca, satya, vAk, yo, dfQa, vratas]\n",
      "['को', 'नु', 'अस्मिन्', 'साम्प्रतम्', 'लोके', 'गुण', 'वान्', 'कस्', 'च', 'वीर्य', 'वान्', 'धर्म', 'ज्ञस्', 'च', 'कृतज्ञस्', 'च', 'सत्य', 'वाक्यस्', 'दृढव्रतस्']\n",
      "[ko, nu, asmin, sAmpratam, loke, guRa, vAn, kas, ca, vIrya, vAn, Darma, jYas, ca, kftajYas, ca, satya, vAkyas, dfQavratas]\n",
      "['को', 'नु', 'अस्मिन्', 'साम्प्रतम्', 'लोके', 'गुण', 'वान्', 'कस्', 'च', 'वीर्य', 'वान्', 'धर्म', 'ज्ञस्', 'च', 'कृत', 'ज्ञस्', 'च', 'सत्य', 'वाक्', 'यो', 'दृढ', 'व्रतस्']\n",
      "[ko, nu, asmin, sAmpratam, loke, guRa, vAn, kas, ca, vIrya, vAn, Darma, jYas, ca, kfta, jYas, ca, satya, vAk, yo, dfQa, vratas]\n",
      "['को', 'नु', 'अस्मिन्', 'साम्प्रतम्', 'लोके', 'गुण', 'वान्', 'कस्', 'च', 'वीर्य', 'वान्', 'धर्म', 'ज्ञस्', 'च', 'कृतज्ञस्', 'च', 'सत्य', 'वाक्', 'यो', 'दृढव्रतस्']\n",
      "[ko, nu, asmin, sAmpratam, loke, guRa, vAn, kas, ca, vIrya, vAn, Darma, jYas, ca, kftajYas, ca, satya, vAk, yo, dfQavratas]\n"
     ]
    }
   ],
   "source": [
    "print('splits for: ', sentence.devanagari())\n",
    "for split in splits: # SanskritObjects\n",
    "    print([s.devanagari() for s in split])\n",
    "    print(split)    "
   ]
  },
  {
   "cell_type": "code",
   "execution_count": 55,
   "metadata": {},
   "outputs": [
    {
     "name": "stdout",
     "output_type": "stream",
     "text": [
      "तस् , __end__\n",
      "व्र , व्रतस् , दृढ , दृढव्रतस् , वाक्यस् , यस् , यो , वाक् , सत्य , अ , अवाक् , सति , सती , सत्यवाक्यस् , य , सत् , च , कृतज्ञस् , ज्ञस् , अ , अज्ञस् , कृत् , कृत , च , ज्ञस् , धर्म , म , ॠ , ध , ऋ , धा , धर्मज्ञस् , अवान् , आन् , अव , वान् , व , वा , अ , अवा , रि , री , वी , वीर्यवान् , इ , यव , य , यवा , यवान् , यो , इस् , इरि , इर्य , इरी , वि , विस् , वीस् , वीर्य , वीरी , वीरि , ईस् , ई , ईरी , ईरि , ईर्य , इस् , च , कस् , गुणवान् , वान् , आन् , व , वा , ण , गु , गुण , के , उ , ल , ऊ , ला , अके , अ , लस् , लोके , तम् , प्र , साम् , अम् , सा , आम् , स , साम्प्रतम् , अस्मिन् , नू , नु , को , कस् , __start__\n"
     ]
    }
   ],
   "source": [
    "for graph in graphs: # can be SanskritObjects or Strings\n",
    "    if isinstance(graph, SanskritObject):\n",
    "        print(graph.devanagari(),end=' , ')\n",
    "    else:\n",
    "        print(graph)"
   ]
  },
  {
   "cell_type": "code",
   "execution_count": 56,
   "metadata": {},
   "outputs": [
    {
     "name": "stdout",
     "output_type": "stream",
     "text": [
      "(praS, {prATamikaH, parasmEpadam, bahuvacanam, liw, maDyamapuruzaH})\n",
      "(praS, {liw, prATamikaH, praTamapuruzaH, parasmEpadam, ekavacanam})\n",
      "(praS, {liw, prATamikaH, parasmEpadam, uttamapuruzaH, ekavacanam})\n"
     ]
    }
   ],
   "source": [
    "word = SanskritObject('papracCa')\n",
    "tags = analyzer.getMorphologicalTags(word)\n",
    "if tags:\n",
    "    for tag in tags: # SanskritImmutableStrings\n",
    "        print(tag)"
   ]
  },
  {
   "cell_type": "code",
   "execution_count": 26,
   "metadata": {},
   "outputs": [
    {
     "name": "stdout",
     "output_type": "stream",
     "text": [
      "joins:  {'konvasmin'}\n"
     ]
    }
   ],
   "source": [
    "obj1 = SanskritImmutableString('kon', encoding=SLP1)\n",
    "obj2 = SanskritImmutableString('vasmin', encoding=SLP1)\n",
    "joins = analyzer.sandhi.join(first_in=obj1, second_in=obj2)\n",
    "print('joins: ', joins)"
   ]
  },
  {
   "cell_type": "code",
   "execution_count": 27,
   "metadata": {},
   "outputs": [
    {
     "name": "stdout",
     "output_type": "stream",
     "text": [
      "splits:  [['कोनु', 'अस्मिन्'], ['कस्', 'अन्वस्मिन्'], ['कर्', 'अन्वस्मिन्'], ['कः', 'न्वस्मिन्'], ['कोनू', 'अस्मिन्'], ['कोन्व्', 'अस्मिन्'], ['का', 'उन्वस्मिन्'], ['को', 'अन्वस्मिन्'], ['क्', 'ओन्वस्मिन्'], ['कोन्', 'वस्मिन्'], ['कोन्व', 'स्मिन्'], ['क', 'उन्वस्मिन्'], ['का', 'ऊन्वस्मिन्'], ['कर्', 'न्वस्मिन्'], ['क', 'ऊन्वस्मिन्'], ['को', 'न्वस्मिन्'], ['कस्', 'न्वस्मिन्'], ['कः', 'अन्वस्मिन्']]\n"
     ]
    }
   ],
   "source": [
    "splits = analyzer.sandhi.split_all(SanskritImmutableString(list(joins)[0]), stop=5)\n",
    "print('splits: ', [[SanskritImmutableString(s).devanagari() for s in split] for split in splits])"
   ]
  },
  {
   "cell_type": "code",
   "execution_count": null,
   "metadata": {},
   "outputs": [],
   "source": []
  }
 ],
 "metadata": {
  "kernelspec": {
   "display_name": "Python 3",
   "language": "python",
   "name": "python3"
  },
  "language_info": {
   "codemirror_mode": {
    "name": "ipython",
    "version": 3
   },
   "file_extension": ".py",
   "mimetype": "text/x-python",
   "name": "python",
   "nbconvert_exporter": "python",
   "pygments_lexer": "ipython3",
   "version": "3.8.3"
  }
 },
 "nbformat": 4,
 "nbformat_minor": 4
}
